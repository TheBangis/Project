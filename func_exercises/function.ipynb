{
 "cells": [
  {
   "attachments": {},
   "cell_type": "markdown",
   "metadata": {},
   "source": [
    "### Exercise: 8-1. Message\n",
    "##### Write a function called display_message() that prints one sentence telling everyone what you are learning about in this chapter. Call the function, and make sure the message displays correctly."
   ]
  },
  {
   "cell_type": "code",
   "execution_count": 6,
   "metadata": {},
   "outputs": [
    {
     "name": "stdout",
     "output_type": "stream",
     "text": [
      "I am learning Function\n"
     ]
    }
   ],
   "source": [
    "def display_message():\n",
    "    print(F\"I am learning Function\")\n",
    "display_message()"
   ]
  },
  {
   "attachments": {},
   "cell_type": "markdown",
   "metadata": {},
   "source": [
    "### 8-2. Favorite Book: \n",
    "##### Write a function called favorite_book() that accepts one parameter, title. The function should print a message, such as One of my favorite books is Alice in Wonderland. Call the function, making sure to include a book title as an argument in the function call."
   ]
  },
  {
   "cell_type": "code",
   "execution_count": 2,
   "metadata": {},
   "outputs": [
    {
     "name": "stdout",
     "output_type": "stream",
     "text": [
      "One of my favorite books is  Alice in Wonderland\n"
     ]
    }
   ],
   "source": [
    "def favorite_book(title):\n",
    "    print(F\"One of my favorite books is \",title)\n",
    "favorite_book(\"Alice in Wonderland\")"
   ]
  },
  {
   "attachments": {},
   "cell_type": "markdown",
   "metadata": {},
   "source": [
    "### 8-3. T-Shirt: \n",
    "##### Write a function called make_shirt() that accepts a size and the text of a message that should be printed on the shirt. The function should print a sentence summarizing the size of the shirt and the message printed on it. Call the function once using positional arguments to make a shirt. Call the function a second time using keyword arguments."
   ]
  },
  {
   "cell_type": "code",
   "execution_count": 6,
   "metadata": {},
   "outputs": [
    {
     "name": "stdout",
     "output_type": "stream",
     "text": [
      "The size is \"Large\" and message on it is \"Yes, We Can!\"\n"
     ]
    }
   ],
   "source": [
    "'''def make_shirt(size, text):\n",
    "    print(F\"The size is \\\"{size}\\\" and message on it is \\\"{text}\\\"\")\n",
    "make_shirt('Large', 'Yes, We Can!')'''"
   ]
  },
  {
   "attachments": {},
   "cell_type": "markdown",
   "metadata": {},
   "source": [
    "### 8-4. Large Shirts:\n",
    "##### Modify the make_shirt() function so that shirts are large by default with a message that reads I love Python. Make a large shirt and a medium shirt with the default message, and a shirt of any size with a different message."
   ]
  },
  {
   "cell_type": "code",
   "execution_count": 10,
   "metadata": {},
   "outputs": [
    {
     "name": "stdout",
     "output_type": "stream",
     "text": [
      "The size is \"Large\" and message \"I love python\"\n",
      "The size is \"Large\" and message \"Medium\"\n",
      "The size is \"Extra Large\" and message \"Python is fun\"\n"
     ]
    }
   ],
   "source": [
    "def make_shirt(text=\"I love python\", size = \"Large\"):\n",
    "    print(F\"The size is \\\"{size}\\\" and message \\\"{text}\\\"\")\n",
    "make_shirt()\n",
    "make_shirt(size=\"Medium\")\n",
    "make_shirt(\"Python is fun\", \"Extra Large\")"
   ]
  },
  {
   "attachments": {},
   "cell_type": "markdown",
   "metadata": {},
   "source": [
    "### 8-5. Cities:\n",
    "##### Write a function called describe_city() that accepts the name of a city and its country. The function should print a simple sentence, such as Reykjavik is in Iceland. Give the parameter for the country a default value. Call your function for three different cities, at least one of which is not in thedefault country."
   ]
  },
  {
   "cell_type": "code",
   "execution_count": 13,
   "metadata": {},
   "outputs": [
    {
     "name": "stdout",
     "output_type": "stream",
     "text": [
      "kano is in Nigeria\n",
      "Madrid is in Spain\n",
      "Yalo is in Adamawa\n"
     ]
    }
   ],
   "source": [
    "def describe_city(city, country = \"Nigeria\"):\n",
    "    print(F\"{city} is in {country}\")\n",
    "describe_city(\"kano\")\n",
    "describe_city(\"Madrid\", country=\"Spain\")\n",
    "describe_city(\"Yalo\", \"Adamawa\")"
   ]
  },
  {
   "attachments": {},
   "cell_type": "markdown",
   "metadata": {},
   "source": [
    "### 8.6. City Names: \n",
    "##### Write a function called city_country() that takes in the name of a city and its country. The function should return a string formatted like this: (\"Santiago, Chile\")"
   ]
  },
  {
   "cell_type": "code",
   "execution_count": 31,
   "metadata": {},
   "outputs": [
    {
     "name": "stdout",
     "output_type": "stream",
     "text": [
      "(\"Kano, Nigeria\")\n",
      "(\"Madrid, Spain\")\n",
      "(\"Landon, England\")\n"
     ]
    }
   ],
   "source": [
    "def city_country(city_name, country_name):\n",
    "    return F\"(\\\"{city_name}, {country_name}\\\")\".title()\n",
    "\n",
    "print(city_country('kano', 'nigeria'))\n",
    "print(city_country('madrid', 'spain'))\n",
    "print(city_country(country_name=\"england\", city_name='landon'))\n"
   ]
  },
  {
   "attachments": {},
   "cell_type": "markdown",
   "metadata": {},
   "source": [
    "### 8-7. Album: \n",
    "##### Write a function called make_album() that builds a dictionary describing a music album. The function should take in an artist name and an album title, and it should return a dictionary containing these two pieces of information. Use the function to make three dictionaries representing different albums. Print each return value to show that the dictionaries are storing the album information correctly. Use None to add an optional parameter to make_album() that allows you to store the number of songs on an album. If the calling line includes a value for the number of songs, add that value to the album’s dictionary. Make at least one new function call that includes the number of songs on an album."
   ]
  },
  {
   "cell_type": "code",
   "execution_count": 36,
   "metadata": {},
   "outputs": [
    {
     "name": "stdout",
     "output_type": "stream",
     "text": [
      "{'Artist name': 'umar m shariff', 'album title': 'mosaya'}\n",
      "{'Artist name': 'nura m inuwa', 'album title': 'qaddara'}\n",
      "{'Artist name': 'kizz denial', 'album title': 'RTID', 'number_songs': 9}\n"
     ]
    }
   ],
   "source": [
    "def make_album(artist_name, album_title, number_songs = None):\n",
    "    albun = {'Artist name': artist_name, 'album title': album_title}\n",
    "    if number_songs:\n",
    "        albun['number_songs'] = number_songs\n",
    "    return albun\n",
    "print(make_album(\"umar m shariff\", \"mosaya\"))\n",
    "print(make_album(\"nura m inuwa\", \"qaddara\"))\n",
    "print(make_album(\"kizz denial\", 'RTID', number_songs=9))\n",
    "\n",
    "\n"
   ]
  },
  {
   "attachments": {},
   "cell_type": "markdown",
   "metadata": {},
   "source": [
    "### 8-8. User Albums: \n",
    "##### Start with your program from Exercise 8-7. Write a while loop that allows users to enter an album’s artist and title. Once you have that information, call make_album() with the user’s input and print the dictionary that’s created. Be sure to include a quit value in the while loop."
   ]
  },
  {
   "cell_type": "code",
   "execution_count": 40,
   "metadata": {},
   "outputs": [
    {
     "name": "stdout",
     "output_type": "stream",
     "text": [
      "{'Artist name': 's', 'album title': 'masoya'}\n"
     ]
    }
   ],
   "source": [
    "def make_album(artist_name, album_title):\n",
    "    albun = {'Artist name': artist_name, 'album title': album_title}\n",
    "    return albun\n",
    "while True:\n",
    "    name = str(input(\"enter name: \"))\n",
    "    if name == 's':\n",
    "        break\n",
    "    title = str(input(\"enter title: \"))\n",
    "    if title == 's':\n",
    "        break\n",
    "print(make_album(name, title))"
   ]
  },
  {
   "attachments": {},
   "cell_type": "markdown",
   "metadata": {},
   "source": [
    "### 8-9. Messages: \n",
    "#### Make a list containing a series of short text messages. Pass the list to a function called show_messages(), which prints each text message."
   ]
  },
  {
   "cell_type": "code",
   "execution_count": 22,
   "metadata": {},
   "outputs": [
    {
     "name": "stdout",
     "output_type": "stream",
     "text": [
      "python is fun\n",
      "python is hard\n",
      "python make your day miserable\n"
     ]
    }
   ],
   "source": [
    "def show_messages(lst):\n",
    "    for i in lst:\n",
    "        print(i) \n",
    "lists = ['python is fun', 'python is hard', 'python make your day miserable']\n",
    "show_messages(lists)"
   ]
  },
  {
   "attachments": {},
   "cell_type": "markdown",
   "metadata": {},
   "source": [
    "### 8-10. Sending Messages: \n",
    "##### Start with a copy of your program from Exercise 8-9. Write a function called send_messages() that prints each text message and moves each message to a new list called sent_messages as it’s printed. After calling the function, print both of your lists to make sure the messages were moved correctly.\n"
   ]
  },
  {
   "cell_type": "code",
   "execution_count": 9,
   "metadata": {},
   "outputs": [
    {
     "name": "stdout",
     "output_type": "stream",
     "text": [
      "\n",
      "Initial Messages Pinted:\n",
      "python make your day miserable\n",
      "python is hard\n",
      "python is fun\n",
      "\n",
      "New Messages Printed:\n",
      "python make your day miserable\n",
      "python is hard\n",
      "python is fun\n"
     ]
    }
   ],
   "source": [
    "def send_messages(original_msgs, new_msgs):\n",
    "    while original_msgs:\n",
    "        copy_msgs = original_msgs.pop()\n",
    "        print(copy_msgs)\n",
    "        new_msgs.append(copy_msgs)\n",
    "\n",
    "def show_printed_msgs(new_msgs):\n",
    "    for new_msg in new_msgs:\n",
    "        print(new_msg)\n",
    "msgs = ['python is fun', 'python is hard', 'python make your day miserable']\n",
    "sent_messages = []\n",
    "print(\"\\nInitial Messages Pinted:\")   \n",
    "send_messages(msgs, sent_messages)\n",
    "print(\"\\nNew Messages Printed:\")\n",
    "show_printed_msgs(sent_messages)\n",
    "\n"
   ]
  },
  {
   "cell_type": "markdown",
   "metadata": {},
   "source": [
    "### 8-11. Archived Messages:\n",
    "##### Start with your work from Exercise 8-10. Call the function send_messages() with a copy of the list of messages. After calling the function, print both of your lists to show that the original list has retained its messages."
   ]
  },
  {
   "cell_type": "code",
   "execution_count": null,
   "metadata": {},
   "outputs": [],
   "source": [
    "def send_messages(original_msgs, new_msgs):\n",
    "    while original_msgs:\n",
    "        copy_msgs = original_msgs.pop()\n",
    "        print(copy_msgs)\n",
    "        new_msgs.append(copy_msgs)\n",
    "\n",
    "def show_printed_msgs(new_msgs):\n",
    "    for new_msg in new_msgs:\n",
    "        print(new_msg)\n",
    "msgs = ['python is fun', 'python is hard', 'python make your day miserable']\n",
    "sent_messages = []\n",
    "print(\"\\nInitial Messages Pinted:\")   \n",
    "send_messages(msgs[:], sent_messages)\n",
    "print(\"\\nNew Messages Printed:\")\n",
    "show_printed_msgs(sent_messages)\n"
   ]
  },
  {
   "attachments": {},
   "cell_type": "markdown",
   "metadata": {},
   "source": [
    "### 8-12. Sandwiches:\n",
    "##### Write a function that accepts a list of items a person wants on a sandwich. The function should have one parameter that collects as many items as the function call provides, and it should print a summary of the sandwich that’s being ordered. Call the function three times, using a different number of arguments each time."
   ]
  },
  {
   "cell_type": "code",
   "execution_count": 20,
   "metadata": {},
   "outputs": [
    {
     "name": "stdout",
     "output_type": "stream",
     "text": [
      "monday order ('sandwichA', 'sandwichB', 'sandwichC')\n",
      "tuesday order ('sandwichC', 'sandwich color')\n",
      "wednesday order ('sandwichA', 'sandwichB', 'sandwichC', 'sandwich apple')\n"
     ]
    }
   ],
   "source": [
    "def sandwich_order(day, *lists):\n",
    "    return F\"{day} order {lists}\"\n",
    "print(sandwich_order(\"monday\", 'sandwichA', 'sandwichB', 'sandwichC'))\n",
    "print(sandwich_order(\"tuesday\", 'sandwichC', 'sandwich color'))\n",
    "print(sandwich_order(\"wednesday\", 'sandwichA', 'sandwichB', 'sandwichC', 'sandwich apple'))"
   ]
  },
  {
   "attachments": {},
   "cell_type": "markdown",
   "metadata": {},
   "source": [
    "### 8-13. User Profile: \n",
    "##### Start with a copy of user_profile.py from page 149. Build a profile of yourself by calling build_profile(), using your first and last names and three other key-value pairs that describe you."
   ]
  },
  {
   "cell_type": "code",
   "execution_count": 40,
   "metadata": {},
   "outputs": [
    {
     "name": "stdout",
     "output_type": "stream",
     "text": [
      "{'age': 25, 'location': 'no 1212 dan rimi', 'status': 'single', 'first_name': 'babangida', 'last_name': 'sani'}\n"
     ]
    }
   ],
   "source": [
    "def build_profile(first, last, **my_info):\n",
    "    my_info['first_name'] = first\n",
    "    my_info['last_name'] = last\n",
    "    return my_info\n",
    "my_profile = build_profile('babangida', 'sani', age=25, location='no 1212 dan rimi', status=\"single\")\n",
    "print(my_profile)    "
   ]
  },
  {
   "attachments": {},
   "cell_type": "markdown",
   "metadata": {},
   "source": [
    "### 8-14. Cars: \n",
    "##### Write a function that stores information about a car in a dictionary. The function should always receive a manufacturer and a model name. It should then accept an arbitrary number of keyword arguments. Call the function with the required information and two other name-value pairs, such as a color or an optional feature. Your function should work for a call like this one: car = make_car('subaru', 'outback', color='blue', tow_package=True)"
   ]
  },
  {
   "cell_type": "code",
   "execution_count": 42,
   "metadata": {},
   "outputs": [
    {
     "name": "stdout",
     "output_type": "stream",
     "text": [
      "{'color': 'blue', 'tow_package': True, 'manufacurer': 'subaru', 'model_name': 'outback'}\n"
     ]
    }
   ],
   "source": [
    "def make_car(manufacurer, model_name, **car_features):\n",
    "    car_features['manufacurer'] = manufacurer\n",
    "    car_features['model_name'] = model_name\n",
    "    return car_features\n",
    "car = make_car('subaru', 'outback', color='blue', tow_package=True)\n",
    "print(car)"
   ]
  }
 ],
 "metadata": {
  "kernelspec": {
   "display_name": "Python 3",
   "language": "python",
   "name": "python3"
  },
  "language_info": {
   "codemirror_mode": {
    "name": "ipython",
    "version": 3
   },
   "file_extension": ".py",
   "mimetype": "text/x-python",
   "name": "python",
   "nbconvert_exporter": "python",
   "pygments_lexer": "ipython3",
   "version": "3.11.0"
  },
  "orig_nbformat": 4,
  "vscode": {
   "interpreter": {
    "hash": "bbcabe28f8076184b8da29492fab1e6f2f41ea6e2094c3d09ddcdbad96810730"
   }
  }
 },
 "nbformat": 4,
 "nbformat_minor": 2
}
