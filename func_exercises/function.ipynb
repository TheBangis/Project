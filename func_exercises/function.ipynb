{
 "cells": [
  {
   "attachments": {},
   "cell_type": "markdown",
   "metadata": {},
   "source": [
    "### Exercise: 8-1. Message\n",
    "###### Write a function called display_message() that prints one sentence telling everyone what you are learning about in this chapter. Call the function, and make sure the message displays correctly."
   ]
  },
  {
   "cell_type": "code",
   "execution_count": 6,
   "metadata": {},
   "outputs": [
    {
     "name": "stdout",
     "output_type": "stream",
     "text": [
      "I am learning Function\n"
     ]
    }
   ],
   "source": [
    "def display_message():\n",
    "    print(F\"I am learning Function\")\n",
    "display_message()"
   ]
  },
  {
   "attachments": {},
   "cell_type": "markdown",
   "metadata": {},
   "source": [
    "### 8-2. Favorite Book: \n",
    "###### Write a function called favorite_book() that accepts one parameter, title. The function should print a message, such as One of my favorite books is Alice in Wonderland. Call the function, making sure to include a book title as an argument in the function call."
   ]
  },
  {
   "cell_type": "code",
   "execution_count": 2,
   "metadata": {},
   "outputs": [
    {
     "name": "stdout",
     "output_type": "stream",
     "text": [
      "One of my favorite books is  Alice in Wonderland\n"
     ]
    }
   ],
   "source": [
    "def favorite_book(title):\n",
    "    print(F\"One of my favorite books is \",title)\n",
    "favorite_book(\"Alice in Wonderland\")"
   ]
  },
  {
   "attachments": {},
   "cell_type": "markdown",
   "metadata": {},
   "source": [
    "### 8-3. T-Shirt: \n",
    "###### Write a function called make_shirt() that accepts a size and the text of a message that should be printed on the shirt. The function should print a sentence summarizing the size of the shirt and the message printed on it. Call the function once using positional arguments to make a shirt. Call the function a second time using keyword arguments."
   ]
  },
  {
   "cell_type": "code",
   "execution_count": 6,
   "metadata": {},
   "outputs": [
    {
     "name": "stdout",
     "output_type": "stream",
     "text": [
      "The size is \"Large\" and message on it is \"Yes, We Can!\"\n"
     ]
    }
   ],
   "source": [
    "'''def make_shirt(size, text):\n",
    "    print(F\"The size is \\\"{size}\\\" and message on it is \\\"{text}\\\"\")\n",
    "make_shirt('Large', 'Yes, We Can!')'''"
   ]
  },
  {
   "attachments": {},
   "cell_type": "markdown",
   "metadata": {},
   "source": [
    "### 8-4. Large Shirts:\n",
    "###### Modify the make_shirt() function so that shirts are large by default with a message that reads I love Python. Make a large shirt and a medium shirt with the default message, and a shirt of any size with a different message."
   ]
  },
  {
   "cell_type": "code",
   "execution_count": 10,
   "metadata": {},
   "outputs": [
    {
     "name": "stdout",
     "output_type": "stream",
     "text": [
      "The size is \"Large\" and message \"I love python\"\n",
      "The size is \"Large\" and message \"Medium\"\n",
      "The size is \"Extra Large\" and message \"Python is fun\"\n"
     ]
    }
   ],
   "source": [
    "def make_shirt(text=\"I love python\", size = \"Large\"):\n",
    "    print(F\"The size is \\\"{size}\\\" and message \\\"{text}\\\"\")\n",
    "make_shirt()\n",
    "make_shirt(size=\"Medium\")\n",
    "make_shirt(\"Python is fun\", \"Extra Large\")"
   ]
  },
  {
   "attachments": {},
   "cell_type": "markdown",
   "metadata": {},
   "source": [
    "### 8-5. Cities:\n",
    "###### Write a function called describe_city() that accepts the name of a city and its country. The function should print a simple sentence, such as Reykjavik is in Iceland. Give the parameter for the country a default value. Call your function for three different cities, at least one of which is not in thedefault country."
   ]
  },
  {
   "cell_type": "code",
   "execution_count": 13,
   "metadata": {},
   "outputs": [
    {
     "name": "stdout",
     "output_type": "stream",
     "text": [
      "kano is in Nigeria\n",
      "Madrid is in Spain\n",
      "Yalo is in Adamawa\n"
     ]
    }
   ],
   "source": [
    "def describe_city(city, country = \"Nigeria\"):\n",
    "    print(F\"{city} is in {country}\")\n",
    "describe_city(\"kano\")\n",
    "describe_city(\"Madrid\", country=\"Spain\")\n",
    "describe_city(\"Yalo\", \"Adamawa\")"
   ]
  }
 ],
 "metadata": {
  "kernelspec": {
   "display_name": "Python 3",
   "language": "python",
   "name": "python3"
  },
  "language_info": {
   "codemirror_mode": {
    "name": "ipython",
    "version": 3
   },
   "file_extension": ".py",
   "mimetype": "text/x-python",
   "name": "python",
   "nbconvert_exporter": "python",
   "pygments_lexer": "ipython3",
   "version": "3.11.0"
  },
  "orig_nbformat": 4,
  "vscode": {
   "interpreter": {
    "hash": "bbcabe28f8076184b8da29492fab1e6f2f41ea6e2094c3d09ddcdbad96810730"
   }
  }
 },
 "nbformat": 4,
 "nbformat_minor": 2
}
