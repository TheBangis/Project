{
 "cells": [
  {
   "attachments": {},
   "cell_type": "markdown",
   "metadata": {},
   "source": [
    "### 9-1. Restaurant: \n",
    "##### Make a class called Restaurant. The __init__() method for Restaurant should store two attributes: a restaurant_name and a cuisine_type. Make a method called describe_restaurant() that prints these two pieces of information, and a method called open_restaurant() that prints a message indicating that the restaurant is open. Make an instance called restaurant from your class. Print the two attributes individually, and then call both methods."
   ]
  },
  {
   "cell_type": "code",
   "execution_count": 10,
   "metadata": {},
   "outputs": [
    {
     "name": "stdout",
     "output_type": "stream",
     "text": [
      "Restaurant name is Gusto\n",
      "Cuisine type is chinese cuisine\n",
      "\n",
      "Gusto restaurant is open now\n"
     ]
    }
   ],
   "source": [
    "class Restaurant:\n",
    "    def __init__(self, restaurant_name, cuisine_type):\n",
    "        self.restaurant_name = restaurant_name\n",
    "        self.cuisine_type = cuisine_type\n",
    "    def describe_restaurant(self):\n",
    "        print(F\"Restaurant name is {self.restaurant_name}\")\n",
    "        print(F\"Cuisine type is {self.cuisine_type}\")\n",
    "\n",
    "    def open_restaurant(selt):\n",
    "        print(F\"\\n{selt.restaurant_name} restaurant is open now\")\n",
    "\n",
    "my_restaurant = Restaurant('Gusto', 'chinese cuisine')\n",
    "my_restaurant.describe_restaurant()\n",
    "my_restaurant.open_restaurant()\n"
   ]
  },
  {
   "attachments": {},
   "cell_type": "markdown",
   "metadata": {},
   "source": [
    "### 9-2. Three Restaurants:\n",
    "##### Start with your class from Exercise 9-1. Create three different instances from the class, and call describe_restaurant() for each instance."
   ]
  },
  {
   "cell_type": "code",
   "execution_count": 12,
   "metadata": {},
   "outputs": [
    {
     "name": "stdout",
     "output_type": "stream",
     "text": [
      "Restaurant name is Chicken Republic\n",
      "Cuisine type is Indian Cuisine\n",
      "Restaurant name is Zazu\n",
      "Cuisine type is Korean Meal\n",
      "Restaurant name is Albark\n",
      "Cuisine type is Local Cuisine\n"
     ]
    }
   ],
   "source": [
    "my_restaurant_1 = Restaurant('Chicken Republic', 'Indian Cuisine')\n",
    "my_restaurant_2 = Restaurant(\"Zazu\", \"Korean Meal\")\n",
    "my_restaurant_3 = Restaurant(\"Albark\", 'Local Cuisine')\n",
    "\n",
    "my_restaurant_1.describe_restaurant()\n",
    "my_restaurant_2.describe_restaurant()\n",
    "my_restaurant_3.describe_restaurant()"
   ]
  },
  {
   "attachments": {},
   "cell_type": "markdown",
   "metadata": {},
   "source": [
    "### 9-3. Users: \n",
    "##### Make a class called User. Create two attributes called first_name and last_name, and then create several other attributes that are typically stored in a user profile. Make a method called describe_user() that prints a summary of the user’s information. Make another method called greet_user() that prints a personalized greeting to the user. Create several instances representing different users, and call both methods for each user."
   ]
  },
  {
   "cell_type": "code",
   "execution_count": 18,
   "metadata": {},
   "outputs": [
    {
     "name": "stdout",
     "output_type": "stream",
     "text": [
      "the user name is babangida sani and he is 25 years and single\n",
      "Hello babangida sani\n",
      "the user name is mahmud said and he is 24 years and single\n",
      "Hello mahmud said\n",
      "the user name is maryam idris and he is 22 years and single\n",
      "Hello maryam idris\n",
      "the user name is mubarak daha and he is 28 years and single\n",
      "Hello mubarak daha\n"
     ]
    }
   ],
   "source": [
    "class User:\n",
    "    def __init__(self, first_name, last_name, age, marital_status):\n",
    "        self.first_name = first_name\n",
    "        self.last_name = last_name\n",
    "        self.age = age\n",
    "        self.marital_status = marital_status\n",
    "\n",
    "    def describe_user(self):\n",
    "        print(F\"the user name is {self.first_name} {self.last_name} and he is {self.age} years and {self.marital_status}\")\n",
    "    \n",
    "    def greet_user(self):\n",
    "        print(F\"Hello {self.first_name} {self.last_name}, have a nice day!\")\n",
    "\n",
    "user_1 = User('babangida', 'sani', 25, 'single')\n",
    "user_2 = User('mahmud', 'said', 24, 'single')\n",
    "user_3 = User('maryam', 'idris', 22, 'single')\n",
    "user_4 = User('mubarak', 'daha', 28, 'single')\n",
    "\n",
    "#call both method for each user\n",
    "user_1.describe_user()\n",
    "user_1.greet_user()\n",
    "\n",
    "user_2.describe_user()\n",
    "user_2.greet_user()\n",
    "\n",
    "user_3.describe_user()\n",
    "user_3.greet_user()\n",
    "\n",
    "user_4.describe_user()\n",
    "user_4.greet_user()"
   ]
  },
  {
   "cell_type": "code",
   "execution_count": null,
   "metadata": {},
   "outputs": [],
   "source": []
  }
 ],
 "metadata": {
  "kernelspec": {
   "display_name": "Python 3",
   "language": "python",
   "name": "python3"
  },
  "language_info": {
   "codemirror_mode": {
    "name": "ipython",
    "version": 3
   },
   "file_extension": ".py",
   "mimetype": "text/x-python",
   "name": "python",
   "nbconvert_exporter": "python",
   "pygments_lexer": "ipython3",
   "version": "3.11.0"
  },
  "orig_nbformat": 4,
  "vscode": {
   "interpreter": {
    "hash": "bbcabe28f8076184b8da29492fab1e6f2f41ea6e2094c3d09ddcdbad96810730"
   }
  }
 },
 "nbformat": 4,
 "nbformat_minor": 2
}
